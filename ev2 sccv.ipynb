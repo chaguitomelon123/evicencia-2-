{
  "nbformat": 4,
  "nbformat_minor": 0,
  "metadata": {
    "colab": {
      "provenance": [],
      "authorship_tag": "ABX9TyNI4dl+tbNkkivwCbB7RLEA",
      "include_colab_link": true
    },
    "kernelspec": {
      "name": "python3",
      "display_name": "Python 3"
    },
    "language_info": {
      "name": "python"
    }
  },
  "cells": [
    {
      "cell_type": "markdown",
      "metadata": {
        "id": "view-in-github",
        "colab_type": "text"
      },
      "source": [
        "<a href=\"https://colab.research.google.com/github/chaguitomelon123/evicencia-2-/blob/main/ev2%20sccv.ipynb\" target=\"_parent\"><img src=\"https://colab.research.google.com/assets/colab-badge.svg\" alt=\"Open In Colab\"/></a>"
      ]
    },
    {
      "cell_type": "code",
      "execution_count": null,
      "metadata": {
        "colab": {
          "base_uri": "https://localhost:8080/"
        },
        "id": "dIlG_V8LJbF-",
        "outputId": "a3e20444-594a-4597-8e4d-db18fbd5cea7"
      },
      "outputs": [
        {
          "output_type": "stream",
          "name": "stdout",
          "text": [
            "Nombre: santiago\n",
            "Nota:  3\n",
            "No regular\n"
          ]
        }
      ],
      "source": [
        "\n",
        "class Alumno:\n",
        "  def inicializar(self, nombre, nota):\n",
        "    self.nombre = nombre\n",
        "    self.nota = nota\n",
        "  def mostrar(self):\n",
        "    print(\"Nombre:\", self.nombre)\n",
        "    print(\"Nota: \", self.nota)\n",
        "  def mayor(self):\n",
        "    if self.nota>=4:\n",
        "      print(\"Es regular.\")\n",
        "    else:\n",
        "      print(\"No regular\")\n",
        "#Bloque principal\n",
        "alumnol=Alumno()\n",
        "alumnol.inicializar (\"santiago\", 3)\n",
        "alumnol.mostrar()\n",
        "alumnol.mayor()\n"
      ]
    },
    {
      "cell_type": "code",
      "source": [
        "from re import S\n",
        "class Persona:\n",
        "  def inicializar(self, nombre):\n",
        "    self.nombre = nombre\n",
        "\n",
        "  def mostrar(self):\n",
        "    print (\"Nombre\", self.nombre)\n",
        "\n",
        "#bloque principal\n",
        "personal = Persona()\n",
        "personal.inicializar(\"santiago\")\n",
        "personal.mostrar()\n",
        "\n"
      ],
      "metadata": {
        "colab": {
          "base_uri": "https://localhost:8080/"
        },
        "id": "VHCsN-Z-SEG5",
        "outputId": "4edd481f-58a0-41a5-958a-70fe4c30e620"
      },
      "execution_count": null,
      "outputs": [
        {
          "output_type": "stream",
          "name": "stdout",
          "text": [
            "Nombre santiago\n"
          ]
        }
      ]
    },
    {
      "cell_type": "code",
      "source": [
        "\n",
        "class Persona:\n",
        "  def inicializar (self, nombre, edad):\n",
        "    self.nombre = nombre\n",
        "    self.edad = edad\n",
        "  def mostrar(self):\n",
        "    print(\"Nombre:\", self.nombre)\n",
        "    print(\"Edad\", self.edad)\n",
        "  def mayor_edad (self):\n",
        "    if self.edad >= 18:\n",
        "      print(\"Es mayor de edad.\")\n",
        "    else:\n",
        "      print(\"No es mayor de edad.\")\n",
        "#Bloque principal\n",
        "personal = Persona()\n",
        "personal. inicializar (\"santiago\", 14)\n",
        "personal.mostrar()\n",
        "personal.mayor_edad()"
      ],
      "metadata": {
        "colab": {
          "base_uri": "https://localhost:8080/"
        },
        "id": "xFxsjHJ7SM0-",
        "outputId": "5e12b3e1-6ab3-4c57-8872-ad8a2c026962"
      },
      "execution_count": null,
      "outputs": [
        {
          "output_type": "stream",
          "name": "stdout",
          "text": [
            "Nombre: santiago\n",
            "Edad 14\n",
            "No es mayor de edad.\n"
          ]
        }
      ]
    },
    {
      "cell_type": "code",
      "source": [
        "class Triangulo:\n",
        "  def inicializar(self, lado1, lado2, lado3):\n",
        "    self.lado1 = lado1\n",
        "    self.lado2 = lado2\n",
        "    self.lado3 = lado3\n",
        "  def lado_mayor (self):\n",
        "    if self.lado1 == self.lado2 and self.lado2 == self.lado3:\n",
        "      print(\"Todos los lados equivalen a:\", self.lado1)\n",
        "    elif self.lado1 > self. lado2 and self.ladol > self.lado3:\n",
        "      print(\"El lado 1 es el mayor.\")\n",
        "    elif self.lado2 > self.lado1 and self.lado2 > self.lado3:\n",
        "      print(\"El lado 2 es el mayor.\")\n",
        "    else:\n",
        "      print(\"El lado 3 es el mayor.\")\n",
        "  def equilatero (self):\n",
        "    if self.lado1 == self.lado2 and self.lado2:\n",
        "      print(\"El triangulo es equilatero.\")\n",
        "    else:\n",
        "      print(\"No es quilatero\")\n",
        "Triangulo1 = Triangulo()\n",
        "Triangulo1.inicializar(5, 6, 7)\n",
        "Triangulo1.lado_mayor()\n",
        "Triangulo1.equilatero()"
      ],
      "metadata": {
        "colab": {
          "base_uri": "https://localhost:8080/"
        },
        "id": "EPKf6V9faw2S",
        "outputId": "90cf5ddc-b063-4ed5-bebe-4b987262eb56"
      },
      "execution_count": null,
      "outputs": [
        {
          "output_type": "stream",
          "name": "stdout",
          "text": [
            "El lado 3 es el mayor.\n",
            "No es quilatero\n"
          ]
        }
      ]
    }
  ]
}